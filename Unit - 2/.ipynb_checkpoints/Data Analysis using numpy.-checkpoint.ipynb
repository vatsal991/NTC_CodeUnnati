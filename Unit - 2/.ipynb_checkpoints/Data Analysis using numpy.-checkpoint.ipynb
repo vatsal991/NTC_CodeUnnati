{
 "cells": [
  {
   "cell_type": "markdown",
   "id": "058aa45d",
   "metadata": {},
   "source": [
    "# Unit 2 : Data analysis using NumPy"
   ]
  },
  {
   "cell_type": "markdown",
   "id": "5f54422a",
   "metadata": {},
   "source": [
    "## 2.1. Important points :"
   ]
  },
  {
   "cell_type": "code",
   "execution_count": 3,
   "id": "bd9e5573",
   "metadata": {},
   "outputs": [],
   "source": [
    "#Important Points to remember\n",
    "\n",
    "#NumPy stands for Numerical Python\n",
    "#NumPy is partially written in Python and other parts are written in C and C++\n",
    "\n",
    "#To install NumPy print the following command :\n",
    "            #pip install numpy\n",
    "\n",
    "#To install any library in Anaconda Software use command :\n",
    "            #conda install library_name\n",
    "    \n",
    "#NumPy array is considerably fast as compared to list and tuples"
   ]
  },
  {
   "cell_type": "markdown",
   "id": "27c6c417",
   "metadata": {},
   "source": [
    "## 2.2. NumPy setup related commands :"
   ]
  },
  {
   "cell_type": "code",
   "execution_count": 11,
   "id": "ad2ed495",
   "metadata": {},
   "outputs": [
    {
     "name": "stdout",
     "output_type": "stream",
     "text": [
      "Requirement already satisfied: numpy in c:\\users\\sap\\anaconda3\\lib\\site-packages (1.21.5)Note: you may need to restart the kernel to use updated packages.\n",
      "\n"
     ]
    }
   ],
   "source": [
    "pip install numpy"
   ]
  },
  {
   "cell_type": "code",
   "execution_count": 5,
   "id": "0907a1a3",
   "metadata": {},
   "outputs": [
    {
     "name": "stdout",
     "output_type": "stream",
     "text": [
      "Collecting package metadata (current_repodata.json): ...working... done\n",
      "Solving environment: ...working... done\n",
      "\n",
      "# All requested packages already installed.\n",
      "\n",
      "Retrieving notices: ...working... done\n",
      "\n",
      "Note: you may need to restart the kernel to use updated packages.\n"
     ]
    }
   ],
   "source": [
    "conda install numpy"
   ]
  },
  {
   "cell_type": "code",
   "execution_count": 4,
   "id": "29b1fc78",
   "metadata": {},
   "outputs": [
    {
     "name": "stdout",
     "output_type": "stream",
     "text": [
      "Package                       Version\n",
      "----------------------------- --------------------\n",
      "aiohttp                       3.8.1\n",
      "aiosignal                     1.2.0\n",
      "alabaster                     0.7.12\n",
      "anaconda-client               1.9.0\n",
      "anaconda-navigator            2.1.4\n",
      "anaconda-project              0.10.2\n",
      "anyio                         3.5.0\n",
      "appdirs                       1.4.4\n",
      "argon2-cffi                   21.3.0\n",
      "argon2-cffi-bindings          21.2.0\n",
      "arrow                         1.2.2\n",
      "astroid                       2.6.6\n",
      "astropy                       5.0.4\n",
      "asttokens                     2.0.5\n",
      "async-timeout                 4.0.1\n",
      "atomicwrites                  1.4.0\n",
      "attrs                         21.4.0\n",
      "Automat                       20.2.0\n",
      "autopep8                      1.6.0\n",
      "Babel                         2.9.1\n",
      "backcall                      0.2.0\n",
      "backports.functools-lru-cache 1.6.4\n",
      "backports.tempfile            1.0\n",
      "backports.weakref             1.0.post1\n",
      "bcrypt                        3.2.0\n",
      "beautifulsoup4                4.11.1\n",
      "binaryornot                   0.4.4\n",
      "bitarray                      2.4.1\n",
      "bkcharts                      0.2\n",
      "black                         19.10b0\n",
      "bleach                        4.1.0\n",
      "bokeh                         2.4.2\n",
      "boto3                         1.21.32\n",
      "botocore                      1.24.32\n",
      "Bottleneck                    1.3.4\n",
      "brotlipy                      0.7.0\n",
      "cachetools                    4.2.2\n",
      "certifi                       2021.10.8\n",
      "cffi                          1.15.0\n",
      "chardet                       4.0.0\n",
      "charset-normalizer            2.0.4\n",
      "click                         8.0.4\n",
      "cloudpickle                   2.0.0\n",
      "clyent                        1.2.2\n",
      "colorama                      0.4.4\n",
      "colorcet                      2.0.6\n",
      "comtypes                      1.1.10\n",
      "conda                         4.14.0\n",
      "conda-build                   3.21.8\n",
      "conda-content-trust           0+unknown\n",
      "conda-pack                    0.6.0\n",
      "conda-package-handling        1.8.1\n",
      "conda-repo-cli                1.0.4\n",
      "conda-token                   0.3.0\n",
      "conda-verify                  3.4.2\n",
      "constantly                    15.1.0\n",
      "cookiecutter                  1.7.3\n",
      "cryptography                  3.4.8\n",
      "cssselect                     1.1.0\n",
      "cycler                        0.11.0\n",
      "Cython                        0.29.28\n",
      "cytoolz                       0.11.0\n",
      "daal4py                       2021.5.0\n",
      "dask                          2022.2.1\n",
      "datashader                    0.13.0\n",
      "datashape                     0.5.4\n",
      "debugpy                       1.5.1\n",
      "decorator                     5.1.1\n",
      "defusedxml                    0.7.1\n",
      "diff-match-patch              20200713\n",
      "distributed                   2022.2.1\n",
      "docutils                      0.17.1\n",
      "entrypoints                   0.4\n",
      "et-xmlfile                    1.1.0\n",
      "executing                     0.8.3\n",
      "fastjsonschema                2.15.1\n",
      "filelock                      3.6.0\n",
      "flake8                        3.9.2\n",
      "Flask                         1.1.2\n",
      "fonttools                     4.25.0\n",
      "frozenlist                    1.2.0\n",
      "fsspec                        2022.2.0\n",
      "future                        0.18.2\n",
      "gensim                        4.1.2\n",
      "glob2                         0.7\n",
      "google-api-core               1.25.1\n",
      "google-auth                   1.33.0\n",
      "google-cloud-core             1.7.1\n",
      "google-cloud-storage          1.31.0\n",
      "google-crc32c                 1.1.2\n",
      "google-resumable-media        1.3.1\n",
      "googleapis-common-protos      1.53.0\n",
      "greenlet                      1.1.1\n",
      "grpcio                        1.42.0\n",
      "h5py                          3.6.0\n",
      "HeapDict                      1.0.1\n",
      "holoviews                     1.14.8\n",
      "hvplot                        0.7.3\n",
      "hyperlink                     21.0.0\n",
      "idna                          3.3\n",
      "imagecodecs                   2021.8.26\n",
      "imageio                       2.9.0\n",
      "imagesize                     1.3.0\n",
      "importlib-metadata            4.11.3\n",
      "incremental                   21.3.0\n",
      "inflection                    0.5.1\n",
      "iniconfig                     1.1.1\n",
      "intake                        0.6.5\n",
      "intervaltree                  3.1.0\n",
      "ipykernel                     6.9.1\n",
      "ipython                       8.2.0\n",
      "ipython-genutils              0.2.0\n",
      "ipywidgets                    7.6.5\n",
      "isort                         5.9.3\n",
      "itemadapter                   0.3.0\n",
      "itemloaders                   1.0.4\n",
      "itsdangerous                  2.0.1\n",
      "jdcal                         1.4.1\n",
      "jedi                          0.18.1\n",
      "Jinja2                        2.11.3\n",
      "jinja2-time                   0.2.0\n",
      "jmespath                      0.10.0\n",
      "joblib                        1.1.0\n",
      "json5                         0.9.6\n",
      "jsonschema                    4.4.0\n",
      "jupyter                       1.0.0\n",
      "jupyter-client                6.1.12\n",
      "jupyter-console               6.4.0\n",
      "jupyter-core                  4.9.2\n",
      "jupyter-server                1.13.5\n",
      "jupyterlab                    3.3.2\n",
      "jupyterlab-pygments           0.1.2\n",
      "jupyterlab-server             2.10.3\n",
      "jupyterlab-widgets            1.0.0\n",
      "keyring                       23.4.0\n",
      "kiwisolver                    1.3.2\n",
      "lazy-object-proxy             1.6.0\n",
      "libarchive-c                  2.9\n",
      "llvmlite                      0.38.0\n",
      "locket                        0.2.1\n",
      "lxml                          4.8.0\n",
      "Markdown                      3.3.4\n",
      "MarkupSafe                    2.0.1\n",
      "matplotlib                    3.5.1\n",
      "matplotlib-inline             0.1.2\n",
      "mccabe                        0.6.1\n",
      "menuinst                      1.4.18\n",
      "mistune                       0.8.4\n",
      "mkl-fft                       1.3.1\n",
      "mkl-random                    1.2.2\n",
      "mkl-service                   2.4.0\n",
      "mock                          4.0.3\n",
      "mpmath                        1.2.1\n",
      "msgpack                       1.0.2\n",
      "multidict                     5.1.0\n",
      "multipledispatch              0.6.0\n",
      "munkres                       1.1.4\n",
      "mypy-extensions               0.4.3\n",
      "navigator-updater             0.2.1\n",
      "nbclassic                     0.3.5\n",
      "nbclient                      0.5.13\n",
      "nbconvert                     6.4.4\n",
      "nbformat                      5.3.0\n",
      "nest-asyncio                  1.5.5\n",
      "networkx                      2.7.1\n",
      "nltk                          3.7\n",
      "nose                          1.3.7\n",
      "notebook                      6.4.8\n",
      "numba                         0.55.1\n",
      "numexpr                       2.8.1\n",
      "numpy                         1.21.5\n",
      "numpydoc                      1.2\n",
      "olefile                       0.46\n",
      "openpyxl                      3.0.9\n",
      "packaging                     21.3\n",
      "pandas                        1.4.2\n",
      "pandocfilters                 1.5.0\n",
      "panel                         0.13.0\n",
      "param                         1.12.0\n",
      "paramiko                      2.8.1\n",
      "parsel                        1.6.0\n",
      "parso                         0.8.3\n",
      "partd                         1.2.0\n",
      "pathspec                      0.7.0\n",
      "patsy                         0.5.2\n",
      "pep8                          1.7.1\n",
      "pexpect                       4.8.0\n",
      "pickleshare                   0.7.5\n",
      "Pillow                        9.0.1\n",
      "pip                           21.2.4\n",
      "pkginfo                       1.8.2\n",
      "plotly                        5.6.0\n",
      "pluggy                        1.0.0\n",
      "poyo                          0.5.0\n",
      "prometheus-client             0.13.1\n",
      "prompt-toolkit                3.0.20\n",
      "Protego                       0.1.16\n",
      "protobuf                      3.19.1\n",
      "psutil                        5.8.0\n",
      "ptyprocess                    0.7.0\n",
      "pure-eval                     0.2.2\n",
      "py                            1.11.0\n",
      "pyasn1                        0.4.8\n",
      "pyasn1-modules                0.2.8\n",
      "pycodestyle                   2.7.0\n",
      "pycosat                       0.6.3\n",
      "pycparser                     2.21\n",
      "pyct                          0.4.6\n",
      "pycurl                        7.44.1\n",
      "PyDispatcher                  2.0.5\n",
      "pydocstyle                    6.1.1\n",
      "pyerfa                        2.0.0\n",
      "pyflakes                      2.3.1\n",
      "Pygments                      2.11.2\n",
      "PyHamcrest                    2.0.2\n",
      "PyJWT                         2.1.0\n",
      "pylint                        2.9.6\n",
      "pyls-spyder                   0.4.0\n",
      "PyNaCl                        1.4.0\n",
      "pyodbc                        4.0.32\n",
      "pyOpenSSL                     21.0.0\n",
      "pyparsing                     3.0.4\n",
      "pyreadline                    2.1\n",
      "pyrsistent                    0.18.0\n",
      "PySocks                       1.7.1\n",
      "pytest                        7.1.1\n",
      "python-dateutil               2.8.2\n",
      "python-lsp-black              1.0.0\n",
      "python-lsp-jsonrpc            1.0.0\n",
      "python-lsp-server             1.2.4\n",
      "python-slugify                5.0.2\n",
      "python-snappy                 0.6.0\n",
      "pytz                          2021.3\n",
      "pyviz-comms                   2.0.2\n",
      "PyWavelets                    1.3.0\n",
      "pywin32                       302\n",
      "pywin32-ctypes                0.2.0\n",
      "pywinpty                      2.0.2\n",
      "PyYAML                        6.0\n",
      "pyzmq                         22.3.0\n",
      "QDarkStyle                    3.0.2\n",
      "qstylizer                     0.1.10\n",
      "QtAwesome                     1.0.3\n",
      "qtconsole                     5.3.0\n",
      "QtPy                          2.0.1\n",
      "queuelib                      1.5.0\n",
      "regex                         2022.3.15\n",
      "requests                      2.27.1\n",
      "requests-file                 1.5.1\n",
      "rope                          0.22.0\n",
      "rsa                           4.7.2\n",
      "Rtree                         0.9.7\n",
      "ruamel-yaml-conda             0.15.100\n",
      "s3transfer                    0.5.0\n",
      "scikit-image                  0.19.2\n",
      "scikit-learn                  1.0.2\n",
      "scikit-learn-intelex          2021.20220215.102710\n",
      "scipy                         1.7.3\n",
      "Scrapy                        2.6.1\n",
      "seaborn                       0.11.2\n",
      "Send2Trash                    1.8.0\n",
      "service-identity              18.1.0\n",
      "setuptools                    61.2.0\n",
      "sip                           4.19.13\n",
      "six                           1.16.0\n",
      "smart-open                    5.1.0\n",
      "sniffio                       1.2.0\n",
      "snowballstemmer               2.2.0\n",
      "sortedcollections             2.1.0\n",
      "sortedcontainers              2.4.0\n",
      "soupsieve                     2.3.1\n",
      "Sphinx                        4.4.0\n",
      "sphinxcontrib-applehelp       1.0.2\n",
      "sphinxcontrib-devhelp         1.0.2\n",
      "sphinxcontrib-htmlhelp        2.0.0\n",
      "sphinxcontrib-jsmath          1.0.1\n",
      "sphinxcontrib-qthelp          1.0.3\n",
      "sphinxcontrib-serializinghtml 1.1.5\n",
      "spyder                        5.1.5\n",
      "spyder-kernels                2.1.3\n",
      "SQLAlchemy                    1.4.32\n",
      "stack-data                    0.2.0\n",
      "statsmodels                   0.13.2\n",
      "sympy                         1.10.1\n",
      "tables                        3.6.1\n",
      "tabulate                      0.8.9\n",
      "TBB                           0.2\n",
      "tblib                         1.7.0\n",
      "tenacity                      8.0.1\n",
      "terminado                     0.13.1\n",
      "testpath                      0.5.0\n",
      "text-unidecode                1.3\n",
      "textdistance                  4.2.1\n",
      "threadpoolctl                 2.2.0\n",
      "three-merge                   0.1.1\n",
      "tifffile                      2021.7.2\n",
      "tinycss                       0.4\n",
      "tldextract                    3.2.0\n",
      "toml                          0.10.2\n",
      "tomli                         1.2.2\n",
      "toolz                         0.11.2\n",
      "tornado                       6.1\n",
      "tqdm                          4.64.0\n",
      "traitlets                     5.1.1\n",
      "Twisted                       22.2.0\n",
      "twisted-iocpsupport           1.0.2\n",
      "typed-ast                     1.4.3\n",
      "typing_extensions             4.1.1\n",
      "ujson                         5.1.0\n",
      "Unidecode                     1.2.0\n",
      "urllib3                       1.26.9\n",
      "w3lib                         1.21.0\n",
      "watchdog                      2.1.6\n",
      "wcwidth                       0.2.5\n",
      "webencodings                  0.5.1\n",
      "websocket-client              0.58.0\n",
      "Werkzeug                      2.0.3\n",
      "wheel                         0.37.1\n",
      "widgetsnbextension            3.5.2\n",
      "win-inet-pton                 1.1.0\n",
      "win-unicode-console           0.5\n",
      "wincertstore                  0.2\n",
      "wrapt                         1.12.1\n",
      "xarray                        0.20.1\n",
      "xlrd                          2.0.1\n",
      "XlsxWriter                    3.0.3\n",
      "xlwings                       0.24.9\n",
      "yapf                          0.31.0\n",
      "yarl                          1.6.3\n",
      "zict                          2.0.0\n",
      "zipp                          3.7.0\n",
      "zope.interface                5.4.0\n",
      "Note: you may need to restart the kernel to use updated packages.\n"
     ]
    }
   ],
   "source": [
    "pip list"
   ]
  },
  {
   "cell_type": "code",
   "execution_count": 6,
   "id": "9383f991",
   "metadata": {},
   "outputs": [],
   "source": [
    "#importing NumPy\n",
    "\n",
    "import numpy as np"
   ]
  },
  {
   "cell_type": "code",
   "execution_count": 8,
   "id": "0f8bbb77",
   "metadata": {},
   "outputs": [
    {
     "name": "stdout",
     "output_type": "stream",
     "text": [
      "1.21.5\n"
     ]
    }
   ],
   "source": [
    "#Checking the current version of NumPy Library\n",
    "\n",
    "print(np.__version__)"
   ]
  },
  {
   "cell_type": "markdown",
   "id": "2c746a0a",
   "metadata": {},
   "source": [
    "## 2.3. Working with arrays using NumPy :"
   ]
  },
  {
   "cell_type": "code",
   "execution_count": 2,
   "id": "93311b26",
   "metadata": {},
   "outputs": [
    {
     "name": "stdout",
     "output_type": "stream",
     "text": [
      "[ 1  2  3  4  5  6  7  8  9 10]\n",
      "<class 'numpy.ndarray'>\n"
     ]
    }
   ],
   "source": [
    "#Working with arrays using numpy\n",
    "\n",
    "import numpy as np\n",
    "arr = np.array([1,2,3,4,5,6,7,8,9,10])\n",
    "print(arr)\n",
    "\n",
    "#Checking the data-type using type() method\n",
    "print(type(arr))"
   ]
  },
  {
   "cell_type": "markdown",
   "id": "bc2f54a7",
   "metadata": {},
   "source": [
    "### 2.3.1. Various array methods available in NumPy :"
   ]
  },
  {
   "cell_type": "code",
   "execution_count": 27,
   "id": "d1bdef11",
   "metadata": {},
   "outputs": [
    {
     "name": "stdout",
     "output_type": "stream",
     "text": [
      "1\n",
      "10\n",
      "5.5\n",
      "5.5\n",
      "9\n",
      "2.8722813232690143\n",
      "8.25\n",
      "5.5\n",
      "10.0\n"
     ]
    }
   ],
   "source": [
    "#printing minimum value from the array using np.amin() method\n",
    "print(np.amin(arr))\n",
    "\n",
    "#printing maximum value from the array using np.amax() method\n",
    "print(np.amax(arr))\n",
    "\n",
    "#printing the mean value from the given set of array using np.mean() method\n",
    "print(np.mean(arr))\n",
    "\n",
    "#printing the median value from the given set of array using np.median() method\n",
    "print(np.median(arr))\n",
    "\n",
    "#finding range of values using np.ptp() method\n",
    "#ptp stands for peak-to-peak\n",
    "print(np.ptp(arr))\n",
    "\n",
    "#finding standard deviation for the given set of elements using np.std() method\n",
    "print(np.std(arr))\n",
    "\n",
    "#finding variance for the given set of elements using np.var() method\n",
    "print(np.var(arr))\n",
    "\n",
    "#finding average value for the given set of elements using np.average() method\n",
    "print(np.average(arr))\n",
    "\n",
    "#finding percentile for any particular elements using np.percentile() method\n",
    "print(np.percentile(arr,100))\n"
   ]
  },
  {
   "cell_type": "code",
   "execution_count": 30,
   "id": "039b65e5",
   "metadata": {},
   "outputs": [
    {
     "name": "stdout",
     "output_type": "stream",
     "text": [
      "[1 2 3 4 5]\n"
     ]
    }
   ],
   "source": [
    "#Sorting an array using np.sort() method\n",
    "\n",
    "arr1 = np.array([5,4,3,2,1])\n",
    "print(np.sort(arr1))"
   ]
  },
  {
   "cell_type": "code",
   "execution_count": 32,
   "id": "54555707",
   "metadata": {},
   "outputs": [
    {
     "name": "stdout",
     "output_type": "stream",
     "text": [
      "[[1 2 3 4]\n",
      " [5 6 7 8]]\n"
     ]
    }
   ],
   "source": [
    "#Creating multidimensional arrays using lists\n",
    "\n",
    "arr = np.array([[1,2,3,4],[5,6,7,8]])\n",
    "print(arr)"
   ]
  },
  {
   "cell_type": "code",
   "execution_count": 33,
   "id": "837ed2e0",
   "metadata": {},
   "outputs": [
    {
     "name": "stdout",
     "output_type": "stream",
     "text": [
      "2\n"
     ]
    }
   ],
   "source": [
    "#To find the dimensions of a given array use the ndim() method\n",
    "\n",
    "print(arr.ndim)"
   ]
  },
  {
   "cell_type": "code",
   "execution_count": 34,
   "id": "3d9c05ce",
   "metadata": {},
   "outputs": [
    {
     "name": "stdout",
     "output_type": "stream",
     "text": [
      "(2, 4)\n"
     ]
    }
   ],
   "source": [
    "#To find the number rows and coloums of a given array\n",
    "print(arr.shape)"
   ]
  },
  {
   "cell_type": "code",
   "execution_count": 35,
   "id": "b88e67fa",
   "metadata": {},
   "outputs": [
    {
     "name": "stdout",
     "output_type": "stream",
     "text": [
      "<memory at 0x000001B7FD8BB520>\n"
     ]
    }
   ],
   "source": [
    "#To check the memory location for the given array\n",
    "\n",
    "print(arr.data)"
   ]
  },
  {
   "cell_type": "markdown",
   "id": "53860442",
   "metadata": {},
   "source": [
    "## 2.4. Working with random sub-package of NumPy library :"
   ]
  },
  {
   "cell_type": "code",
   "execution_count": 63,
   "id": "cb4c0d84",
   "metadata": {},
   "outputs": [
    {
     "name": "stdout",
     "output_type": "stream",
     "text": [
      "10\n",
      "0.49481579018012156\n",
      "[0.68910823 0.66267178 0.43727783 0.20296459 0.07180312]\n"
     ]
    }
   ],
   "source": [
    "#importing random sub-library from the NumPy library\n",
    "from numpy import random\n",
    "\n",
    "#Using random sub-library\n",
    "\n",
    "#It is nescessary to specifty atleast one argument for interger specifically(range)\n",
    "#Generating random interger\n",
    "x = random.randint(100)\n",
    "print(x)\n",
    "\n",
    "#Generating random float\n",
    "y = random.rand()\n",
    "print(y)\n",
    "#We can specify the number of random floats required in arguments\n",
    "z = random.rand(5)\n",
    "print(z)"
   ]
  },
  {
   "cell_type": "code",
   "execution_count": 65,
   "id": "a6fa4ce7",
   "metadata": {},
   "outputs": [
    {
     "name": "stdout",
     "output_type": "stream",
     "text": [
      "[28  2 78 85 53 89 94 28 57 27]\n"
     ]
    }
   ],
   "source": [
    "#Generating Random Array\n",
    "# Argument 1 : Mention the range\n",
    "# Argument 2 : Mention the size of array\n",
    "from numpy import random\n",
    "x = random.randint(100, size=(10))\n",
    "print(x)"
   ]
  },
  {
   "cell_type": "code",
   "execution_count": 77,
   "id": "23d632b7",
   "metadata": {},
   "outputs": [
    {
     "name": "stdout",
     "output_type": "stream",
     "text": [
      "[[83 26 47 73 58]\n",
      " [51 48 42 13  1]\n",
      " [29 92 69 33 96]]\n",
      "\n",
      " [[[81 87 99 76 39 18 30]\n",
      "  [11 51 16 60 18 98 77]\n",
      "  [36 39 17 73 67 26 28]\n",
      "  [36 12 36 45 79 59 49]\n",
      "  [66  8 51 78 31 88 73]]\n",
      "\n",
      " [[19 90 32 53 17 62 94]\n",
      "  [14 40 91 19 23  2 37]\n",
      "  [85 49 75 70 90 97 72]\n",
      "  [96 88 59 65 20 31  5]\n",
      "  [76 46 12 87 83 52 60]]\n",
      "\n",
      " [[98 49 55 35 11 48  9]\n",
      "  [13 49 62 35  1 96 71]\n",
      "  [ 7 33 46 35 36 50  1]\n",
      "  [52 13 97 17 50 15 99]\n",
      "  [ 2 96 42 64 38 36  1]]]\n"
     ]
    }
   ],
   "source": [
    "#Generating a 2-D random array with 3 rows and 5 coloums\n",
    "from numpy import random\n",
    "x  = random.randint(100, size=(3,5))\n",
    "print(x)\n",
    "\n",
    "#Generating a 3-D random array\n",
    "from numpy import random\n",
    "y = random.randint(100, size=(3,5,7))\n",
    "print(\"\\n\",y)"
   ]
  },
  {
   "cell_type": "code",
   "execution_count": 93,
   "id": "ac9cefbb",
   "metadata": {},
   "outputs": [
    {
     "name": "stdout",
     "output_type": "stream",
     "text": [
      "95\n"
     ]
    }
   ],
   "source": [
    "#To keep the same random numbers output, use the seed() function\n",
    "random.seed(101)\n",
    "x = random.randint(100)\n",
    "print(x)\n"
   ]
  },
  {
   "cell_type": "markdown",
   "id": "049d3fbe",
   "metadata": {},
   "source": [
    "### Practical 2.4.1. Write a program to print a horizontal vector and a vertical vector using numpy arrays."
   ]
  },
  {
   "cell_type": "code",
   "execution_count": 96,
   "id": "e1b3be0d",
   "metadata": {},
   "outputs": [
    {
     "name": "stdout",
     "output_type": "stream",
     "text": [
      "Horizontal Vector\n",
      "[1 2 3]\n",
      "-----------------\n",
      "Vertical Vector\n",
      "[[10]\n",
      " [20]\n",
      " [30]]\n"
     ]
    }
   ],
   "source": [
    "#PRATICAL 2.5\n",
    "import numpy as np\n",
    "\n",
    "list1 = [1,2,3]\n",
    "list2 = [[10],[20],[30]]\n",
    "\n",
    "#Create Vectors\n",
    "vector1 = np.array(list1)\n",
    "vector2 = np.array(list2)\n",
    "\n",
    "print(\"Horizontal Vector\")\n",
    "print(vector1)\n",
    "\n",
    "print(\"-----------------\")\n",
    "\n",
    "print(\"Vertical Vector\")\n",
    "print(vector2)"
   ]
  },
  {
   "cell_type": "markdown",
   "id": "4697d3e5",
   "metadata": {},
   "source": [
    "### Practical 2.4.2. Creating Matrix using NumPy library :"
   ]
  },
  {
   "cell_type": "code",
   "execution_count": 106,
   "id": "d177e6a7",
   "metadata": {},
   "outputs": [
    {
     "name": "stdout",
     "output_type": "stream",
     "text": [
      "via string input : \n",
      " [[1 2]\n",
      " [3 4]] \n",
      "\n",
      "\n",
      "via array-like input : \n",
      " [[5 6 7]\n",
      " [4 6 7]]\n"
     ]
    }
   ],
   "source": [
    "#PRACTICAL 2.6 : Creating Matrix using NumPy\n",
    "\n",
    "#via string input\n",
    "import numpy as np\n",
    "a = np.matrix('1 2 ; 3 4')\n",
    "print(\"via string input : \\n\",a,\"\\n\\n\")\n",
    "\n",
    "#via array-like input\n",
    "b = np.matrix([[5,6,7],[4,6,7]])\n",
    "print(\"via array-like input : \\n\",b)"
   ]
  },
  {
   "cell_type": "markdown",
   "id": "deb3e660",
   "metadata": {},
   "source": [
    "### Practical 2.4.3. Multiplying two matrices using NumPy library :"
   ]
  },
  {
   "cell_type": "code",
   "execution_count": 117,
   "id": "a1173258",
   "metadata": {},
   "outputs": [
    {
     "name": "stdout",
     "output_type": "stream",
     "text": [
      "Scaller Multiplication : \n",
      " [[30 35]\n",
      " [40 45]]\n",
      "\n",
      "Vector Multiplication : \n",
      " [[27 40]\n",
      " [35 52]]\n"
     ]
    }
   ],
   "source": [
    "#PRACTICAL 2.7 : Matrix Mutliplication using NumPy\n",
    "# Use dot() function for matrix multiplication\n",
    "import numpy as np\n",
    "\n",
    "#Scaller Multiplication\n",
    "a = 5\n",
    "b = [[6,7],[8,9]]\n",
    "\n",
    "print(\"Scaller Multiplication : \\n\",np.dot(a,b))\n",
    "\n",
    "#Vector Multiplication\n",
    "a = [[6,7],[8,9]]\n",
    "b = [[1,2],[3,4]]\n",
    "\n",
    "print(\"\\n\"+ \"Vector Multiplication : \\n\",np.dot(a,b))"
   ]
  },
  {
   "cell_type": "markdown",
   "id": "2a9bd178",
   "metadata": {},
   "source": [
    "### Practical 2.4.4. Finding Transpose of a given Matrix :"
   ]
  },
  {
   "cell_type": "code",
   "execution_count": 123,
   "id": "a1ea9ac3",
   "metadata": {},
   "outputs": [
    {
     "name": "stdout",
     "output_type": "stream",
     "text": [
      "[[1 4 7]\n",
      " [2 5 8]\n",
      " [3 6 9]]\n"
     ]
    }
   ],
   "source": [
    "#Finding Transpose of a given Matrix\n",
    "arr = np.array([[1,2,3],[4,5,6],[7,8,9]])\n",
    "print(np.transpose(arr))"
   ]
  },
  {
   "cell_type": "markdown",
   "id": "c2211ea5",
   "metadata": {},
   "source": [
    "### Practical 2.4.5. Measure of Central Tendency using NumPy :"
   ]
  },
  {
   "cell_type": "markdown",
   "id": "ee34e299",
   "metadata": {},
   "source": [
    "### Practical 2.4.6. Percentile & Interquartile in NumPy : "
   ]
  },
  {
   "cell_type": "code",
   "execution_count": 10,
   "id": "b70b8d8b",
   "metadata": {},
   "outputs": [
    {
     "name": "stdout",
     "output_type": "stream",
     "text": [
      "100.0\n"
     ]
    }
   ],
   "source": [
    "# Importing NumPy\n",
    "import numpy as np\n",
    "data = [10,20,30,40,50,60,70,80,90,100,110,120,130,140,150,160,170,180,190,200]\n",
    "\n",
    "#first quartile(Q1)\n",
    "# Slicing the first half of the array\n",
    "Q1 = np.median(data[:10])\n",
    "\n",
    "#third quartile(Q3)\n",
    "# Slicing the second half of the array\n",
    "Q3 = np.median(data[10:])\n",
    "\n",
    "\n",
    "#Interquartile range (IQR) = Q3 - Q1\n",
    "IQR = Q3 - Q1\n",
    "print(IQR)"
   ]
  },
  {
   "cell_type": "markdown",
   "id": "76370dc0",
   "metadata": {},
   "source": [
    "### Practical 2.4.7. Array broadcasting in NumPy :"
   ]
  },
  {
   "cell_type": "code",
   "execution_count": 11,
   "id": "eafb35f8",
   "metadata": {},
   "outputs": [
    {
     "name": "stdout",
     "output_type": "stream",
     "text": [
      "[2. 4. 6.]\n"
     ]
    }
   ],
   "source": [
    "a = np.array([1.0,2.0,3.0])\n",
    "b = np.array([2.0,2.0,2.0])\n",
    "\n",
    "print(a*b)"
   ]
  },
  {
   "cell_type": "code",
   "execution_count": 12,
   "id": "7369a321",
   "metadata": {},
   "outputs": [
    {
     "name": "stdout",
     "output_type": "stream",
     "text": [
      "[2. 4. 6.]\n"
     ]
    }
   ],
   "source": [
    "a = np.array([1.0,2.0,3.0])\n",
    "b = 2.0\n",
    "\n",
    "print(a*b)"
   ]
  },
  {
   "cell_type": "markdown",
   "id": "db8117d4",
   "metadata": {},
   "source": [
    "### Practical 2.4.8. Write a program to calculate BMI of cricket players :"
   ]
  },
  {
   "cell_type": "code",
   "execution_count": 25,
   "id": "0db58380",
   "metadata": {},
   "outputs": [
    {
     "name": "stdout",
     "output_type": "stream",
     "text": [
      "The height of the players are :\n",
      "[1.5   1.525 1.55  1.575 1.6   1.625 1.65  1.675 1.7   1.725 1.75 ]\n",
      "\n",
      "The Weight of the players are :\n",
      "[45.   90.   72.   81.   63.   69.75 74.25 77.4  81.   90.   75.6 ]\n",
      "\n",
      "The Body Max Index of the players are :\n",
      "[20.         38.69927439 29.96878252 32.65306122 24.609375   26.41420118\n",
      " 27.27272727 27.58743595 28.02768166 30.24574669 24.68571429]\n"
     ]
    }
   ],
   "source": [
    "# Write a program to calculate BMI of cricket players\n",
    "\n",
    "#Heights of Players\n",
    "height_in = [61,65,64,69,70,68,64,63,6,69,70]\n",
    "\n",
    "#Convert into NumPy array\n",
    "height_np = np.array(height_in)\n",
    "\n",
    "#Convert height from inch to meter by exposing it to 0.0245\n",
    "height_np = height_np * 0.025\n",
    "\n",
    "print(\"The height of the players are :\")\n",
    "print(height_np)\n",
    "\n",
    "# Weights of players\n",
    "weight_pd = [100,200,160,180,140,155,165,172,180,200,168]\n",
    "\n",
    "#Convert into NumPy array\n",
    "weight_np = np.array(weight_pd)\n",
    "\n",
    "#Convert weight from pound to kg by exposing it to 0.45\n",
    "weight_np = weight_np * 0.45\n",
    "\n",
    "print(\"\\nThe Weight of the players are :\")\n",
    "print(weight_np)\n",
    "\n",
    "#BMI Calculation\n",
    "BMI = weight_np/(height_np ** 2)\n",
    "\n",
    "print(\"\\nThe Body Max Index of the players are :\")\n",
    "print(BMI)"
   ]
  },
  {
   "cell_type": "code",
   "execution_count": null,
   "id": "2334c888",
   "metadata": {},
   "outputs": [],
   "source": []
  }
 ],
 "metadata": {
  "kernelspec": {
   "display_name": "Python 3 (ipykernel)",
   "language": "python",
   "name": "python3"
  },
  "language_info": {
   "codemirror_mode": {
    "name": "ipython",
    "version": 3
   },
   "file_extension": ".py",
   "mimetype": "text/x-python",
   "name": "python",
   "nbconvert_exporter": "python",
   "pygments_lexer": "ipython3",
   "version": "3.9.12"
  }
 },
 "nbformat": 4,
 "nbformat_minor": 5
}
